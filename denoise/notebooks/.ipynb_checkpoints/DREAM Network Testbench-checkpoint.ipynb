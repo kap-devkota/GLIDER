{
 "cells": [
  {
   "cell_type": "code",
   "execution_count": 1,
   "metadata": {},
   "outputs": [],
   "source": [
    "import sys\n",
    "import imp\n",
    "sys.path.insert(0, '../src')"
   ]
  },
  {
   "cell_type": "code",
   "execution_count": 4,
   "metadata": {},
   "outputs": [],
   "source": [
    "from denoise.graph import io as graphio\n",
    "imp.reload(graphio)\n",
    "\n",
    "_, proteins_to_go = graphio.parse_go_label_file(\"../data/dream_files/human.golabels\")\n",
    "edgelist, node_list, node_map = graphio.parse_graph_file(\"../data/test_graphs/All_Graphs/Graph1.txt\")"
   ]
  },
  {
   "cell_type": "code",
   "execution_count": 5,
   "metadata": {},
   "outputs": [],
   "source": [
    "from denoise.graph import operations\n",
    "from denoise.algorithms.dsd import computations\n",
    "imp.reload(operations)\n",
    "imp.reload(computations)\n",
    "\n",
    "A = operations.densify(edgelist)\n",
    "D = computations.compute_degree_mat(A)\n",
    "X = computations.compute_X_normalized(A, D)"
   ]
  },
  {
   "cell_type": "code",
   "execution_count": 6,
   "metadata": {},
   "outputs": [],
   "source": [
    "import denoise.algorithms.dsd.denoise as denoise\n",
    "imp.reload(denoise)\n",
    "\n",
    "all_edges = denoise.predict_links(X) \n",
    "\n",
    "A_added_edges = A.copy()\n",
    "num_added, counter = 0, 0\n",
    "while num_added < len(edgelist) * 0.10:\n",
    "    (u, v), distance = all_edges[counter]\n",
    "    if A_added_edges[u, v] == 0:\n",
    "        A_added_edges[u, v] = 1\n",
    "        num_added += 1\n",
    "    counter += 1"
   ]
  },
  {
   "cell_type": "code",
   "execution_count": null,
   "metadata": {},
   "outputs": [],
   "source": [
    "imp.reload(denoise)\n",
    "\n",
    "glide_edges = denoise.glide_predict_links(edgelist, X, params = {\"alpha\" : 1, \"beta\" : 1000, \"delta\" : 0.001, \"loc\" : \"l3\"})\n",
    "\n",
    "A_added_edges_glide = A.copy()\n",
    "num_added, counter = 0, 0\n",
    "while num_added < len(edgelist) * 0.10:\n",
    "    (u, v), distance = all_edges[counter]\n",
    "    if A_added_edges_glide[u, v] == 0:\n",
    "        A_added_edges_glide[u, v] = 1\n",
    "        num_added += 1\n",
    "    counter += 1"
   ]
  },
  {
   "cell_type": "code",
   "execution_count": null,
   "metadata": {},
   "outputs": [],
   "source": [
    "D_added_edges = computations.compute_degree_mat(A_added_edges)\n",
    "X_added_edges = computations.compute_X_normalized(A_added_edges, D_added_edges)\n",
    "\n",
    "D_glide = computations.compute_degree_mat(A_added_edges_glide)\n",
    "X_glide = computations.compute_X_normalized(A_added_edges_glide, D_glide)"
   ]
  },
  {
   "cell_type": "code",
   "execution_count": 60,
   "metadata": {},
   "outputs": [
    {
     "name": "stdout",
     "output_type": "stream",
     "text": [
      "The scores for running 5-fold cv using WMV on the original network are: [0.13961407491486946, 0.1373439273552781, 0.11350737797956867, 0.1021566401816118, 0.09761634506242906]\n",
      "The scores for running 5-fold cv using WMV on the original network with edges added by DSD: [0.13961407491486946, 0.1373439273552781, 0.11350737797956867, 0.1021566401816118, 0.09761634506242906]\n",
      "The scores for running 5-fold cv using WMV on the original network with edges added by GLIDE: [0.13961407491486946, 0.1373439273552781, 0.11350737797956867, 0.1021566401816118, 0.09761634506242906]\n"
     ]
    }
   ],
   "source": [
    "from denoise import scoring\n",
    "from denoise import predict\n",
    "imp.reload(predict)\n",
    "imp.reload(scoring)\n",
    "\n",
    "n, _ = A.shape\n",
    "labels = {i: proteins_to_go[node_list[i]] for i in range(n)\n",
    "          if node_list[i] in proteins_to_go}\n",
    "\n",
    "def create_predictor(similarity_matrix):\n",
    "    def predictor(training_labels):\n",
    "        tlabels_f = lambda i: (training_labels[i] if i in training_labels else [])\n",
    "        return predict.wmv(similarity_matrix, tlabels_f)\n",
    "    return predictor\n",
    "\n",
    "A_scores = scoring.kfoldcv(5, labels, create_predictor(A))\n",
    "A_added_edges_scores = scoring.kfoldcv(5, labels, create_predictor(A_added_edges))\n",
    "A_glide_scores = scoring.kfoldcv(5, labels, create_predictor(A_added_edges_glide))\n",
    "\n",
    "print(f\"The scores for running 5-fold cv using WMV on the original network are: {A_scores}\")\n",
    "print(f\"The scores for running 5-fold cv using WMV on the original network with edges added by DSD: {A_added_edges_scores}\")\n",
    "print(f\"The scores for running 5-fold cv using WMV on the original network with edges added by GLIDE: {A_glide_scores}\")"
   ]
  },
  {
   "cell_type": "code",
   "execution_count": 61,
   "metadata": {},
   "outputs": [],
   "source": [
    "from denoise import scoring\n",
    "from denoise import predict\n",
    "import scipy.spatial.distance as spatial\n",
    "imp.reload(predict)\n",
    "imp.reload(scoring)\n",
    "\n",
    "\"\"\"\n",
    "def create_predictor(X):\n",
    "    distances = spatial.squareform(spatial.pdist(X))\n",
    "    def predictor(training_labels):\n",
    "        tlabels_f = lambda i: (training_labels[i] if i in training_labels else [])\n",
    "        return predict.knn(distances, tlabels_f, 10)\n",
    "    return predictor* 100\n",
    "\n",
    "\"\"\"\n",
    "\n",
    "def create_predictor(E):\n",
    "    def predictor(training_labels):\n",
    "        return predict.perform_binary_svc(E, training_labels)\n",
    "    return predictor * 100\n",
    "X_scores             = scoring.kfoldcv(5, labels, create_predictor(X))\n",
    "X_added_edges_scores = scoring.kfoldcv(5, labels, create_predictor(X_added_edges))\n",
    "X_glide_scores       = scoring.kfoldcv(5, labels, create_predictor(X_glide))"
   ]
  },
  {
   "cell_type": "code",
   "execution_count": 66,
   "metadata": {},
   "outputs": [
    {
     "name": "stdout",
     "output_type": "stream",
     "text": [
      "Majority Vote: \n",
      "WMV on raw network: 11.804767309875142%\n",
      "WMV on DSD added edges network: 11.804767309875142%\n",
      "WMV on GLIDE added edges network: 11.804767309875142%\n",
      "\n",
      "10-Nearest Neighbors using DSD embedding:\n",
      "KNN on raw network: 12.553916004540294%\n",
      "KNN on DSD added edges network: 12.57661748013621%\n",
      "KNN on GLIDE added edges network: 12.57661748013621%\n"
     ]
    }
   ],
   "source": [
    "import numpy as np\n",
    "\n",
    "print(\"Majority Vote: \")\n",
    "print(f\"WMV on raw network: {np.mean(A_scores) * 100}%\")\n",
    "print(f\"WMV on DSD added edges network: {np.mean(A_added_edges_scores) * 100}%\")\n",
    "print(f\"WMV on GLIDE added edges network: {np.mean(A_glide_scores) * 100}%\")\n",
    "\n",
    "print(\"\\n10-Nearest Neighbors using DSD embedding:\")\n",
    "print(f\"KNN on raw network: {np.mean(X_scores) * 100}%\")\n",
    "print(f\"KNN on DSD added edges network: {np.mean(X_added_edges_scores) * 100}%\")\n",
    "print(f\"KNN on GLIDE added edges network: {np.mean(X_glide_scores) * 100}%\")"
   ]
  },
  {
   "cell_type": "code",
   "execution_count": null,
   "metadata": {},
   "outputs": [],
   "source": []
  }
 ],
 "metadata": {
  "kernelspec": {
   "display_name": "Python 3",
   "language": "python",
   "name": "python3"
  },
  "language_info": {
   "codemirror_mode": {
    "name": "ipython",
    "version": 3
   },
   "file_extension": ".py",
   "mimetype": "text/x-python",
   "name": "python",
   "nbconvert_exporter": "python",
   "pygments_lexer": "ipython3",
   "version": "3.8.2"
  },
  "name": "DREAM Network Testbench.ipynb"
 },
 "nbformat": 4,
 "nbformat_minor": 4
}
