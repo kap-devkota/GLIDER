{
 "cells": [
  {
   "cell_type": "code",
   "execution_count": 4,
   "metadata": {},
   "outputs": [],
   "source": [
    "import sys\n",
    "import imp\n",
    "sys.path.insert(0, '../src')"
   ]
  },
  {
   "cell_type": "code",
   "execution_count": 5,
   "metadata": {
    "autoscroll": false,
    "ein.hycell": false,
    "ein.tags": "worksheet-0",
    "slideshow": {
     "slide_type": "-"
    }
   },
   "outputs": [
    {
     "name": "stdout",
     "output_type": "stream",
     "text": [
      "0.064\n",
      "0.15\n",
      "['GO:0016772', 'GO:0016740', 'GO:0016301', 'GO:0140096', 'GO:0004672', 'GO:0016773', 'GO:0004674', 'GO:0060089']\n",
      "['GO:0031090', 'GO:0098588', 'GO:0000139', 'GO:0044431']\n"
     ]
    }
   ],
   "source": [
    "import denoise.graph.io as graphio\n",
    "import denoise.graph.operations as graphops\n",
    "imp.reload(graphio)\n",
    "\n",
    "edgelist, node_list, node_map = graphio.parse_graph_file(\"../data/dream_files/1_ppi_string_v2.txt\")\n",
    "G = graphops.densify(edgelist)\n",
    "\n",
    "print(G[node_map[\"PRKAG2\"], node_map[\"ZNF559-ZNF177\"]]) # Should output 0.064\n",
    "print(G[node_map[\"ARL5C\"], node_map[\"YKT6\"]])           # Should output 0.15\n",
    "\n",
    "_, proteins_to_go = graphio.parse_go_label_file(\"../data/dream_files/human.golabels\")\n",
    "\n",
    "print(proteins_to_go[\"PRKAG2\"]) # Works as expected\n",
    "print(proteins_to_go[\"YKT6\"])   # Works as expected"
   ]
  },
  {
   "cell_type": "code",
   "execution_count": 15,
   "metadata": {},
   "outputs": [
    {
     "data": {
      "text/plain": [
       "{0: 'P3', 1: 'P1', 2: 'P1', 3: 'P3', 4: 'P3', 5: 'P4'}"
      ]
     },
     "execution_count": 8,
     "metadata": {},
     "output_type": "execute_result"
    }
   ],
   "source": [
    "import numpy as np\n",
    "from denoise import predict\n",
    "imp.reload(predict)\n",
    "\n",
    "W = np.zeros((6, 6))\n",
    "M = 1_000_000\n",
    "\n",
    "# Node names and labels\n",
    "A, B, C, D, E, F = range(0, 6)\n",
    "labels = {\n",
    "    A: [\"P3\"],\n",
    "    B: [\"P1\", \"P2\"],\n",
    "    E: [\"P3\", \"P4\"],\n",
    "    F: [\"P4\", \"P2\"]\n",
    "}\n",
    "labels_f = lambda n: (labels[n] if n in labels else []) \n",
    "\n",
    "W[A, B] = M\n",
    "W[B, C] = 4\n",
    "W[A, C] = 1\n",
    "W[D, A] = 3\n",
    "W[D, C] = M\n",
    "W[E, D] = 1\n",
    "\n",
    "W = W + W.T # make undirected\n",
    "\n",
    "# Expected Output: {0: 'P3', 1: 'P1', 2: 'P1', 3: 'P3', 4: 'P3', 5: 'P4'}\n",
    "predict.wmv(W, labels_f)"
   ]
  },
  {
   "cell_type": "code",
   "execution_count": 16,
   "metadata": {},
   "outputs": [
    {
     "name": "stdout",
     "output_type": "stream",
     "text": [
      "Unlabelled over labelled: 4352/17397\n"
     ]
    },
    {
     "data": {
      "text/plain": [
       "[0.23137074517019318, 0.24130001533036946]"
      ]
     },
     "execution_count": 7,
     "metadata": {},
     "output_type": "execute_result"
    }
   ],
   "source": [
    "from denoise import scoring\n",
    "from denoise import predict\n",
    "imp.reload(predict)\n",
    "imp.reload(scoring)\n",
    "\n",
    "n, _ = G.shape\n",
    "num_labeled = 0\n",
    "for i in range(n):\n",
    "    if node_list[i] not in proteins_to_go:\n",
    "        num_labeled += 1\n",
    "print(f\"Unlabelled over labelled: {num_labeled}/{n}\")\n",
    "\n",
    "labels = {i: proteins_to_go[node_list[i]] for i in range(n)\n",
    "          if node_list[i] in proteins_to_go}\n",
    "\n",
    "def predictor(training_labels):\n",
    "    tlabels_f = lambda i: (training_labels[i] if i in training_labels else [])\n",
    "    return predict.wmv(G, tlabels_f)\n",
    "\n",
    "scoring.kfoldcv(2, labels, predictor, randomized=True)"
   ]
  },
  {
   "cell_type": "code",
   "execution_count": null,
   "metadata": {},
   "outputs": [],
   "source": []
  }
 ],
 "metadata": {
  "kernelspec": {
   "display_name": "Python 3",
   "language": "python",
   "name": "python3"
  },
  "language_info": {
   "codemirror_mode": {
    "name": "ipython",
    "version": 3
   },
   "file_extension": ".py",
   "mimetype": "text/x-python",
   "name": "python",
   "nbconvert_exporter": "python",
   "pygments_lexer": "ipython3",
   "version": "3.8.2"
  },
  "name": "GO Labelling Testbench.ipynb"
 },
 "nbformat": 4,
 "nbformat_minor": 4
}
