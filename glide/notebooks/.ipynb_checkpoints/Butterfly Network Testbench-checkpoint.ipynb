{
 "cells": [
  {
   "cell_type": "code",
   "execution_count": 1,
   "metadata": {},
   "outputs": [],
   "source": [
    "import sys\n",
    "import imp\n",
    "sys.path.insert(0, '../src')"
   ]
  },
  {
   "cell_type": "code",
   "execution_count": 10,
   "metadata": {},
   "outputs": [],
   "source": [
    "import scipy.io\n",
    "import numpy as np\n",
    "import denoise.algorithms.network_enhancement as ne\n",
    "import denoise.algorithms.dsd.computations as dse\n",
    "from denoise.algorithms.dsd import denoise\n",
    "imp.reload(ne)\n",
    "imp.reload(denoise)\n",
    "imp.reload(dse)\n",
    "\n",
    "butterfly_mat = scipy.io.loadmat(\"../data/ne_files/Raw_butterfly_network.mat\")\n",
    "butterfly_adj    = butterfly_mat[\"W_butterfly0\"]\n",
    "butterfly_labels = butterfly_mat[\"labels\"][0]\n",
    "\n",
    "# TODO: Should do link removal instead of denoising\n",
    "def compute_norm_dsd_graph(A):\n",
    "    n, _ = A.shape\n",
    "    D = A @ np.ones((n, 1))\n",
    "    D = np.diag(D.flatten())\n",
    "    X = dse.compute_X_normalized(butterfly_adj, D, -1)\n",
    "    return X\n",
    "\n",
    "def link_predict_denoise(A, weight=5, num_links=500):\n",
    "    links = denoise.predict_links(A)\n",
    "    W = A.copy()\n",
    "    i = 0\n",
    "    for edge, distance in links:\n",
    "        if W[edge] < .1:\n",
    "            continue\n",
    "        if i > num_links:\n",
    "            break\n",
    "        W[edge] = weight\n",
    "        i += 1\n",
    "    return W\n",
    "\n",
    "butterfly_adj_ne  = ne.network_enhancement(butterfly_adj)\n",
    "butterfly_adj_dsd = compute_norm_dsd_graph(butterfly_adj)\n",
    "butterfly_adj_lp  = link_predict_denoise(butterfly_adj)"
   ]
  },
  {
   "cell_type": "code",
   "execution_count": 11,
   "metadata": {},
   "outputs": [
    {
     "data": {
      "text/plain": [
       "Text(0, 0.5, 'Identification Accuracy')"
      ]
     },
     "execution_count": 11,
     "metadata": {},
     "output_type": "execute_result"
    },
    {
     "data": {
      "image/png": "[encoded data removed]",
      "text/plain": [
       "<Figure size 432x288 with 1 Axes>"
      ]
     },
     "metadata": {
      "needs_background": "light"
     },
     "output_type": "display_data"
    }
   ],
   "source": [
    "import numpy as np\n",
    "import matplotlib.pyplot as plt\n",
    "\n",
    "\"\"\"\n",
    "Calculates the accuracy of retrieving the k most similar images\n",
    "for all images.\n",
    "\"\"\"\n",
    "def retrieval_accuracy(W, labels, k):\n",
    "    num_images = W.shape[0]\n",
    "    W = -1 * (W.copy() + np.identity(num_images))\n",
    "    closest_images = np.argsort(W)\n",
    "    \n",
    "    correctly_retrieved = np.zeros(num_images)\n",
    "    for i in range(num_images):\n",
    "        correct_label = labels[i]\n",
    "        hits = [labels[closest_images[i, j]] == correct_label for j in range(0, k)]\n",
    "        correctly_retrieved[i] = sum([1 if hit else 0 for hit in hits])\n",
    "    \n",
    "    return correctly_retrieved / float(k)\n",
    "\n",
    "MAX_RETRIEVALS = 80\n",
    "retrieval_accuracies = np.zeros(MAX_RETRIEVALS)\n",
    "retrieval_accuracies_ne = np.zeros(MAX_RETRIEVALS)\n",
    "retrieval_accuracies_dsd = np.zeros(MAX_RETRIEVALS)\n",
    "retrieval_accuracies_lp  = np.zeros(MAX_RETRIEVALS)\n",
    "for i in range(1, MAX_RETRIEVALS + 1):\n",
    "    retrieval_accuracies[i - 1] = np.mean(retrieval_accuracy(butterfly_adj, butterfly_labels, i))\n",
    "    retrieval_accuracies_ne[i - 1] = np.mean(retrieval_accuracy(butterfly_adj_ne, butterfly_labels, i))\n",
    "    retrieval_accuracies_dsd[i - 1] = np.mean(retrieval_accuracy(butterfly_adj_dsd, butterfly_labels, i))\n",
    "    retrieval_accuracies_lp[i - 1] = np.mean(retrieval_accuracy(butterfly_adj_lp, butterfly_labels, i))\n",
    "    \n",
    "num_retrievals = np.array(range(1, MAX_RETRIEVALS + 1))\n",
    "\n",
    "fig, ax = plt.subplots()\n",
    "ax.plot(num_retrievals, retrieval_accuracies, label='Raw network')\n",
    "ax.plot(num_retrievals, retrieval_accuracies_ne, label='Network Enhancement Denoising')\n",
    "ax.plot(num_retrievals, retrieval_accuracies_dsd, label='DSD Denoising')\n",
    "ax.plot(num_retrievals, retrieval_accuracies_lp, label='DSD Link Prediction Denoising')\n",
    "ax.legend()\n",
    "ax.set_xlabel('Number of Retrieval')\n",
    "ax.set_ylabel('Identification Accuracy')"
   ]
  },
  {
   "cell_type": "code",
   "execution_count": 12,
   "metadata": {},
   "outputs": [
    {
     "name": "stdout",
     "output_type": "stream",
     "text": [
      "The accuracy on the raw network is 0.5165260408938313.\n",
      "The accuracy on the network enhancement denoised network is 0.7585226885645802.\n",
      "The accuracy on the network with DSD added links is 0.6557662511251305.\n",
      "The accuracy on the DSD denoised network is 0.5171367991409224.\n"
     ]
    }
   ],
   "source": [
    "def mean_accuracy(W, labels):\n",
    "    num_images = W.shape[0]\n",
    "    W = -1 * (W.copy() + np.identity(num_images))\n",
    "    closest_images = np.argsort(W)\n",
    "    \n",
    "    _, label_counts = np.unique(labels, return_counts=True)\n",
    "    retrieval_accuracies = np.zeros(num_images)\n",
    "    for i in range(num_images):\n",
    "        correct_label = labels[i]\n",
    "        k = label_counts[correct_label - 1]\n",
    "        hits = [labels[closest_images[i, j]] == correct_label for j in range(1, k)]\n",
    "        retrieval_accuracies[i] = sum([1 if hit else 0 for hit in hits])\n",
    "        retrieval_accuracies[i] = float(retrieval_accuracies[i]) / float(k - 1)\n",
    "    \n",
    "    return np.mean(retrieval_accuracies)\n",
    "\n",
    "accuracy_std = mean_accuracy(butterfly_adj, butterfly_labels)\n",
    "accuracy_ne  = mean_accuracy(butterfly_adj_ne, butterfly_labels)\n",
    "accuracy_dsd  = mean_accuracy(butterfly_adj_dsd, butterfly_labels)\n",
    "accuracy_lp  = mean_accuracy(butterfly_adj_lp, butterfly_labels)\n",
    "\n",
    "print(f\"The accuracy on the raw network is {accuracy_std}.\")\n",
    "print(f\"The accuracy on the network enhancement denoised network is {accuracy_ne}.\")\n",
    "print(f\"The accuracy on the network with DSD added links is {accuracy_dsd}.\")\n",
    "print(f\"The accuracy on the DSD denoised network is {accuracy_lp}.\")"
   ]
  },
  {
   "cell_type": "code",
   "execution_count": 13,
   "metadata": {
    "scrolled": true
   },
   "outputs": [
    {
     "name": "stdout",
     "output_type": "stream",
     "text": [
      "Nearest Neighbors Graph:\n",
      "[[0.  0.  4.  3.  0. ]\n",
      " [0.  0.  1.  1.5 0. ]\n",
      " [4.  1.  0.  0.  3. ]\n",
      " [3.  1.5 0.  0.  4. ]\n",
      " [0.  0.  3.  4.  0. ]]\n",
      "\n",
      "Transition Matrix:\n",
      "[[0.         0.1        0.4        0.3        0.2       ]\n",
      " [0.14285714 0.         0.28571429 0.42857143 0.14285714]\n",
      " [0.4        0.2        0.         0.1        0.3       ]\n",
      " [0.27272727 0.27272727 0.09090909 0.         0.36363636]\n",
      " [0.2        0.1        0.3        0.4        0.        ]]\n"
     ]
    }
   ],
   "source": [
    "import denoise.algorithms.network_enhancement as ne\n",
    "imp.reload(ne)\n",
    "\n",
    "W = np.array([[0, 1, 4, 3, 2],\n",
    "              [1, 0, 2, 3, 1],\n",
    "              [4, 2, 0, 1, 3],\n",
    "              [3, 3, 1, 0, 4],\n",
    "              [2, 1, 3, 4, 0]])\n",
    "\n",
    "KNN = ne.nearest_neighbors_graph(W, 2)\n",
    "P   = ne.transition_matrix(W)\n",
    "\n",
    "print(f\"Nearest Neighbors Graph:\\n{KNN}\")\n",
    "print()\n",
    "print(f\"Transition Matrix:\\n{P}\")"
   ]
  }
 ],
 "metadata": {
  "kernelspec": {
   "display_name": "Python 3",
   "language": "python",
   "name": "python3"
  },
  "language_info": {
   "codemirror_mode": {
    "name": "ipython",
    "version": 3
   },
   "file_extension": ".py",
   "mimetype": "text/x-python",
   "name": "python",
   "nbconvert_exporter": "python",
   "pygments_lexer": "ipython3",
   "version": "3.8.2"
  },
  "name": "Butterfly Network Testbench.ipynb"
 },
 "nbformat": 4,
 "nbformat_minor": 4
}
