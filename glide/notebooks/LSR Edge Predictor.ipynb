{
 "cells": [
  {
   "cell_type": "code",
   "execution_count": 20,
   "metadata": {},
   "outputs": [
    {
     "name": "stdout",
     "output_type": "stream",
     "text": [
      "[[1. 1.]\n",
      " [1. 3.]\n",
      " [1. 5.]]\n",
      "[[0.5]\n",
      " [1.5]\n",
      " [2.5]]\n",
      "[[ 2.  4.  6.]\n",
      " [ 4. 10. 16.]\n",
      " [ 6. 16. 26.]]\n",
      "[[-4.4408921e-16]\n",
      " [ 5.0000000e-01]]\n"
     ]
    },
    {
     "data": {
      "text/plain": [
       "[('A', 'B', 0.4999999999999995),\n",
       " ('A', 'C', 0.9999999999999994),\n",
       " ('A', 'D', 1.4999999999999993),\n",
       " ('B', 'C', 1.9999999999999993),\n",
       " ('B', 'D', 2.499999999999999),\n",
       " ('D', 'C', 2.999999999999999)]"
      ]
     },
     "execution_count": 20,
     "metadata": {},
     "output_type": "execute_result"
    }
   ],
   "source": [
    "import sys\n",
    "import imp\n",
    "sys.path.append(\"..\")\n",
    "\n",
    "import denoise.edgeoperations as eo\n",
    "imp.reload(eo)\n",
    "\n",
    "A, B, C, D = \"A\", \"B\", \"C\", \"D\"\n",
    "edgelist_true = [(A, B, 0.5), (A, D, 1.5), (B, D, 2.5)]\n",
    "ranked_edgelist = [(A, B, 1), (A, C, 2), (A, D, 3), (B, C, 4), (B, D, 5), (D, C, 6)]\n",
    "\n",
    "eo.lsr_convert(ranked_edgelist, edgelist_true)"
   ]
  },
  {
   "cell_type": "code",
   "execution_count": null,
   "metadata": {},
   "outputs": [],
   "source": []
  },
  {
   "cell_type": "code",
   "execution_count": null,
   "metadata": {},
   "outputs": [],
   "source": []
  }
 ],
 "metadata": {
  "kernelspec": {
   "display_name": "Python 3",
   "language": "python",
   "name": "python3"
  },
  "language_info": {
   "codemirror_mode": {
    "name": "ipython",
    "version": 3
   },
   "file_extension": ".py",
   "mimetype": "text/x-python",
   "name": "python",
   "nbconvert_exporter": "python",
   "pygments_lexer": "ipython3",
   "version": "3.8.2"
  }
 },
 "nbformat": 4,
 "nbformat_minor": 4
}
