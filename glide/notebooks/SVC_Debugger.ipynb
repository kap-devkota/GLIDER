{
 "cells": [
  {
   "cell_type": "code",
   "execution_count": 6,
   "metadata": {},
   "outputs": [],
   "source": [
    "import sys\n",
    "import imp\n",
    "import numpy as np\n",
    "sys.path.insert(0, '../')"
   ]
  },
  {
   "cell_type": "code",
   "execution_count": 7,
   "metadata": {},
   "outputs": [],
   "source": [
    "from denoise.graph import io as graphio\n",
    "imp.reload(graphio)\n",
    "\n",
    "_, proteins_to_go = graphio.parse_go_label_file(\"../data/dream_files/human.golabels\")\n",
    "edgelist, node_list, node_map = graphio.parse_graph_file(\"../data/test_graphs/All_Graphs/Graph1.txt\")"
   ]
  },
  {
   "cell_type": "code",
   "execution_count": 8,
   "metadata": {},
   "outputs": [],
   "source": [
    "from denoise.graph import operations\n",
    "from denoise.algorithms.dsd import computations\n",
    "imp.reload(operations)\n",
    "imp.reload(computations)\n",
    "\n",
    "A = operations.densify(edgelist)\n",
    "D = computations.compute_degree_mat(A)\n",
    "X = computations.compute_X_normalized(A, D)"
   ]
  },
  {
   "cell_type": "code",
   "execution_count": 9,
   "metadata": {},
   "outputs": [],
   "source": [
    "n, _ = A.shape\n",
    "labels = {i: proteins_to_go[node_list[i]] for i in range(n)\n",
    "          if node_list[i] in proteins_to_go}"
   ]
  },
  {
   "cell_type": "code",
   "execution_count": 48,
   "metadata": {},
   "outputs": [
    {
     "name": "stdout",
     "output_type": "stream",
     "text": [
      "\n",
      "10-Nearest Neighbors using DSD embedding:\n",
      "KNN on raw network: 0.0%\n"
     ]
    }
   ],
   "source": [
    "from denoise import predict\n",
    "from denoise import scoring\n",
    "import scipy.spatial.distance as spatial\n",
    "imp.reload(predict)\n",
    "imp.reload(scoring)\n",
    "\n",
    "def create_predictor(E):\n",
    "    def predictor(training_labels):\n",
    "        return predict.perform_binary_svc(E, training_labels)\n",
    "    return predictor\n",
    "\n",
    "X_scores             = scoring.kfoldcv(5, labels, create_predictor(X))\n",
    "\n",
    "\n",
    "print(\"\\n10-Nearest Neighbors using DSD embedding:\")\n",
    "print(f\"KNN on raw network: {np.mean(X_scores) * 100}%\")"
   ]
  }
 ],
 "metadata": {
  "kernelspec": {
   "display_name": "Python 3",
   "language": "python",
   "name": "python3"
  },
  "language_info": {
   "codemirror_mode": {
    "name": "ipython",
    "version": 3
   },
   "file_extension": ".py",
   "mimetype": "text/x-python",
   "name": "python",
   "nbconvert_exporter": "python",
   "pygments_lexer": "ipython3",
   "version": "3.8.5"
  }
 },
 "nbformat": 4,
 "nbformat_minor": 4
}
