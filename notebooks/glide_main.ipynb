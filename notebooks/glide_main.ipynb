{
 "cells": [
  {
   "cell_type": "code",
   "execution_count": 4,
   "id": "49fc5f9b-c420-4c72-b664-fc7b6e885714",
   "metadata": {},
   "outputs": [
    {
     "name": "stdout",
     "output_type": "stream",
     "text": [
      "Parsing network...\n",
      "Constructing the adjacency matrix...\n",
      "Computing GLIDE matrix...\n"
     ]
    }
   ],
   "source": [
    "!glide-com --network \\\n",
    "D3.txt --output D3.pkl -v \n",
    "#--get-glide-neighbors --glide-neighbors-k 20 --neighbors-return-format dataframe"
   ]
  },
  {
   "cell_type": "code",
   "execution_count": null,
   "id": "c399da12-3b3f-4213-a3c7-944a84b4dc97",
   "metadata": {},
   "outputs": [
    {
     "name": "stdout",
     "output_type": "stream",
     "text": [
      "Processing /media/G/code/GLIDER/gtools\n",
      "  Preparing metadata (setup.py) ... \u001b[?25ldone\n",
      "\u001b[?25hRequirement already satisfied: pandas in /home/kapil/anaconda3/envs/cs137/lib/python3.8/site-packages (from glidetools==0.0.2) (1.4.4)\n",
      "Requirement already satisfied: numpy in /home/kapil/anaconda3/envs/cs137/lib/python3.8/site-packages (from glidetools==0.0.2) (1.23.3)\n",
      "Requirement already satisfied: scipy in /home/kapil/anaconda3/envs/cs137/lib/python3.8/site-packages (from glidetools==0.0.2) (1.9.1)\n",
      "Requirement already satisfied: networkx in /home/kapil/anaconda3/envs/cs137/lib/python3.8/site-packages (from glidetools==0.0.2) (2.8.6)\n",
      "Requirement already satisfied: python-dateutil>=2.8.1 in /home/kapil/anaconda3/envs/cs137/lib/python3.8/site-packages (from pandas->glidetools==0.0.2) (2.8.2)\n",
      "Requirement already satisfied: pytz>=2020.1 in /home/kapil/anaconda3/envs/cs137/lib/python3.8/site-packages (from pandas->glidetools==0.0.2) (2022.2.1)\n",
      "Requirement already satisfied: six>=1.5 in /home/kapil/anaconda3/envs/cs137/lib/python3.8/site-packages (from python-dateutil>=2.8.1->pandas->glidetools==0.0.2) (1.16.0)\n",
      "Building wheels for collected packages: glidetools\n",
      "  Building wheel for glidetools (setup.py) ... \u001b[?25ldone\n",
      "\u001b[?25h  Created wheel for glidetools: filename=glidetools-0.0.2-py3-none-any.whl size=15084 sha256=45ec4fc5b354961039f14c2aec07fc399601e3a3e6ebcfda38c9bee6498405d4\n",
      "  Stored in directory: /tmp/pip-ephem-wheel-cache-wetsqcxk/wheels/55/01/a6/25d3097c16ff426e22e351bef12214a237292ffb6a22f92397\n",
      "Successfully built glidetools\n",
      "Installing collected packages: glidetools\n",
      "  Attempting uninstall: glidetools\n",
      "    Found existing installation: glidetools 0.0.2\n",
      "    Uninstalling glidetools-0.0.2:\n",
      "      Successfully uninstalled glidetools-0.0.2\n",
      "Successfully installed glidetools-0.0.2\n"
     ]
    }
   ],
   "source": [
    "!cd ../gtools/; pip install ."
   ]
  },
  {
   "cell_type": "code",
   "execution_count": 17,
   "id": "ed85b803-3cb3-4624-b3c9-b3d56e168df0",
   "metadata": {},
   "outputs": [],
   "source": [
    "df = pd.read_csv(\"../data/DREAM_files/dream_3.txt\", sep = \" \", header = None)\n",
    "df1 = df.sample(1000)"
   ]
  },
  {
   "cell_type": "code",
   "execution_count": 18,
   "id": "9b5dcd19-ae03-4461-9263-d83b6694d5fe",
   "metadata": {},
   "outputs": [],
   "source": [
    "df1.to_csv(\"D3.txt\", sep = \"\\t\", header = None, index = None)"
   ]
  },
  {
   "cell_type": "code",
   "execution_count": 24,
   "id": "8358e45d-0047-4a7b-a1c1-75dca89ff018",
   "metadata": {},
   "outputs": [
    {
     "name": "stdout",
     "output_type": "stream",
     "text": [
      "glidetools          0.0.2\n"
     ]
    }
   ],
   "source": [
    "!pip list | grep glidetools"
   ]
  },
  {
   "cell_type": "code",
   "execution_count": 2,
   "id": "73def983-23eb-4565-8918-25ff26367425",
   "metadata": {},
   "outputs": [
    {
     "data": {
      "text/plain": [
       "array([0, 1, 2, 3, 4])"
      ]
     },
     "execution_count": 2,
     "metadata": {},
     "output_type": "execute_result"
    }
   ],
   "source": [
    "x = np.arange(10)\n",
    "x[:5]"
   ]
  },
  {
   "cell_type": "code",
   "execution_count": 5,
   "id": "87f1a300-bb04-448e-876d-135e9374a369",
   "metadata": {},
   "outputs": [],
   "source": [
    "import pickle\n",
    "D, map = pickle.load(open(\"D3.pkl\", \"rb\"))"
   ]
  }
 ],
 "metadata": {
  "kernelspec": {
   "display_name": "cs137",
   "language": "python",
   "name": "cs137"
  },
  "language_info": {
   "codemirror_mode": {
    "name": "ipython",
    "version": 3
   },
   "file_extension": ".py",
   "mimetype": "text/x-python",
   "name": "python",
   "nbconvert_exporter": "python",
   "pygments_lexer": "ipython3",
   "version": "3.8.13"
  }
 },
 "nbformat": 4,
 "nbformat_minor": 5
}
